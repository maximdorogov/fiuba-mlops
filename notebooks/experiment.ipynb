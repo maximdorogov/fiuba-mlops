{
 "cells": [
  {
   "cell_type": "code",
   "execution_count": 1,
   "id": "dac72971",
   "metadata": {},
   "outputs": [],
   "source": [
    "from datetime import datetime\n",
    "import pandas as pd\n",
    "from matplotlib import pyplot as plt\n",
    "from sklearn.model_selection import (\n",
    "    GridSearchCV\n",
    ")\n",
    "from sklearn.pipeline import Pipeline\n",
    "from sklearn.compose import ColumnTransformer\n",
    "from sklearn.preprocessing import StandardScaler\n",
    "from sklearn.svm import SVC\n",
    "from sklearn.metrics import (\n",
    "    roc_curve, auc, \n",
    "    ConfusionMatrixDisplay, \n",
    "    classification_report\n",
    ")\n",
    "import mlflow\n",
    "from mlflow.models import infer_signature\n"
   ]
  },
  {
   "cell_type": "markdown",
   "id": "88142093",
   "metadata": {},
   "source": [
    "Configuramos el experimento con MLflow"
   ]
  },
  {
   "cell_type": "code",
   "execution_count": 2,
   "id": "7ecad072",
   "metadata": {},
   "outputs": [
    {
     "name": "stdout",
     "output_type": "stream",
     "text": [
      "Using experiment name failure_prediction_svm ID: 1\n"
     ]
    }
   ],
   "source": [
    "MLFLOW_TRACKING_URI = \"http://localhost:5000\"\n",
    "MLFLOW_EXPERIMENT_NAME = \"failure_prediction_svm\"\n",
    "\n",
    "mlflow.set_tracking_uri(MLFLOW_TRACKING_URI)\n",
    "experiment = mlflow.get_experiment_by_name(MLFLOW_EXPERIMENT_NAME)\n",
    "\n",
    "if experiment is None:\n",
    "    experiment_id = mlflow.create_experiment(MLFLOW_EXPERIMENT_NAME)\n",
    "else:\n",
    "    experiment_id = experiment.experiment_id\n",
    "print(f\"Using experiment name {MLFLOW_EXPERIMENT_NAME} ID: {experiment_id}\")"
   ]
  },
  {
   "cell_type": "markdown",
   "id": "15fa83d8",
   "metadata": {},
   "source": [
    "Cargamos el dataset balanceado y dividido en train y test."
   ]
  },
  {
   "cell_type": "code",
   "execution_count": 3,
   "id": "25f64cf0",
   "metadata": {},
   "outputs": [
    {
     "data": {
      "text/html": [
       "<div>\n",
       "<style scoped>\n",
       "    .dataframe tbody tr th:only-of-type {\n",
       "        vertical-align: middle;\n",
       "    }\n",
       "\n",
       "    .dataframe tbody tr th {\n",
       "        vertical-align: top;\n",
       "    }\n",
       "\n",
       "    .dataframe thead th {\n",
       "        text-align: right;\n",
       "    }\n",
       "</style>\n",
       "<table border=\"1\" class=\"dataframe\">\n",
       "  <thead>\n",
       "    <tr style=\"text-align: right;\">\n",
       "      <th></th>\n",
       "      <th>airtemperature_k</th>\n",
       "      <th>process_temperature_k</th>\n",
       "      <th>rotational_speed_rpm</th>\n",
       "      <th>torque_nm</th>\n",
       "      <th>tool_wear_min</th>\n",
       "      <th>type_l</th>\n",
       "      <th>type_m</th>\n",
       "      <th>target</th>\n",
       "    </tr>\n",
       "  </thead>\n",
       "  <tbody>\n",
       "    <tr>\n",
       "      <th>0</th>\n",
       "      <td>300.5</td>\n",
       "      <td>309.8</td>\n",
       "      <td>1345</td>\n",
       "      <td>62.7</td>\n",
       "      <td>153</td>\n",
       "      <td>True</td>\n",
       "      <td>False</td>\n",
       "      <td>0</td>\n",
       "    </tr>\n",
       "    <tr>\n",
       "      <th>1</th>\n",
       "      <td>303.7</td>\n",
       "      <td>312.4</td>\n",
       "      <td>1513</td>\n",
       "      <td>40.1</td>\n",
       "      <td>135</td>\n",
       "      <td>True</td>\n",
       "      <td>False</td>\n",
       "      <td>0</td>\n",
       "    </tr>\n",
       "    <tr>\n",
       "      <th>2</th>\n",
       "      <td>302.5</td>\n",
       "      <td>311.4</td>\n",
       "      <td>1559</td>\n",
       "      <td>37.6</td>\n",
       "      <td>209</td>\n",
       "      <td>True</td>\n",
       "      <td>False</td>\n",
       "      <td>0</td>\n",
       "    </tr>\n",
       "    <tr>\n",
       "      <th>3</th>\n",
       "      <td>295.6</td>\n",
       "      <td>306.3</td>\n",
       "      <td>1509</td>\n",
       "      <td>35.8</td>\n",
       "      <td>60</td>\n",
       "      <td>False</td>\n",
       "      <td>False</td>\n",
       "      <td>0</td>\n",
       "    </tr>\n",
       "    <tr>\n",
       "      <th>4</th>\n",
       "      <td>300.5</td>\n",
       "      <td>310.0</td>\n",
       "      <td>1358</td>\n",
       "      <td>60.4</td>\n",
       "      <td>102</td>\n",
       "      <td>False</td>\n",
       "      <td>False</td>\n",
       "      <td>0</td>\n",
       "    </tr>\n",
       "  </tbody>\n",
       "</table>\n",
       "</div>"
      ],
      "text/plain": [
       "   airtemperature_k  process_temperature_k  rotational_speed_rpm  torque_nm  \\\n",
       "0             300.5                  309.8                  1345       62.7   \n",
       "1             303.7                  312.4                  1513       40.1   \n",
       "2             302.5                  311.4                  1559       37.6   \n",
       "3             295.6                  306.3                  1509       35.8   \n",
       "4             300.5                  310.0                  1358       60.4   \n",
       "\n",
       "   tool_wear_min  type_l  type_m  target  \n",
       "0            153    True   False       0  \n",
       "1            135    True   False       0  \n",
       "2            209    True   False       0  \n",
       "3             60   False   False       0  \n",
       "4            102   False   False       0  "
      ]
     },
     "execution_count": 3,
     "metadata": {},
     "output_type": "execute_result"
    }
   ],
   "source": [
    "dataset_train = pd.read_csv('./data_train_balanced.csv')\n",
    "dataset_test = pd.read_csv('./data_test.csv')\n",
    "\n",
    "dataset_test.head()"
   ]
  },
  {
   "cell_type": "code",
   "execution_count": 4,
   "id": "01af5070",
   "metadata": {},
   "outputs": [],
   "source": [
    "X_train = dataset_train.drop(columns=['target'])\n",
    "y_train = dataset_train['target']\n",
    "\n",
    "X_test = dataset_test.drop(columns=['target'])\n",
    "y_test = dataset_test['target']"
   ]
  },
  {
   "cell_type": "markdown",
   "id": "b785ab46",
   "metadata": {},
   "source": [
    "Creamos el pipeline con los hiperparámetros que queremos probar."
   ]
  },
  {
   "cell_type": "code",
   "execution_count": 5,
   "id": "44bc78b5",
   "metadata": {},
   "outputs": [],
   "source": [
    "X_train['type_l'] = X_train['type_l'].astype('category')\n",
    "X_train['type_m'] = X_train['type_m'].astype('category')\n",
    "\n",
    "X_test['type_l'] = X_test['type_l'].astype('category')\n",
    "X_test['type_m'] = X_test['type_m'].astype('category')\n",
    "\n",
    "numeric_features = X_train.select_dtypes(exclude=['category']).columns\n",
    "categorical_features = X_train.select_dtypes(include=['category']).columns\n",
    "\n",
    "\n",
    "preprocessor_svm = ColumnTransformer(\n",
    "    transformers=[(\"num\", StandardScaler(), numeric_features),\n",
    "                  (\"cat\", \"passthrough\", categorical_features)]\n",
    ")\n",
    "\n",
    "# Build pipeline: preprocessing + classifier\n",
    "model_svm = Pipeline(steps=[\n",
    "    (\"preprocessor\", preprocessor_svm),\n",
    "    (\"classifier\", SVC())\n",
    "])"
   ]
  },
  {
   "cell_type": "markdown",
   "id": "fb1c9554",
   "metadata": {},
   "source": [
    "Busqueda de hiperparametros con GridSearchCV"
   ]
  },
  {
   "cell_type": "code",
   "execution_count": 6,
   "id": "ad14c479",
   "metadata": {},
   "outputs": [
    {
     "name": "stdout",
     "output_type": "stream",
     "text": [
      "env: AWS_ACCESS_KEY_ID=root\n",
      "env: AWS_SECRET_ACCESS_KEY=12345678\n",
      "env: MLFLOW_S3_ENDPOINT_URL=http://localhost:9010\n"
     ]
    }
   ],
   "source": [
    "%env AWS_ACCESS_KEY_ID=root  \n",
    "%env AWS_SECRET_ACCESS_KEY=12345678\n",
    "%env MLFLOW_S3_ENDPOINT_URL=http://localhost:9010"
   ]
  },
  {
   "cell_type": "code",
   "execution_count": 7,
   "id": "fa64e9f6",
   "metadata": {},
   "outputs": [
    {
     "name": "stdout",
     "output_type": "stream",
     "text": [
      "Best Accuracy train : 0.8388538188112801\n",
      "Best accuracy test: 0.849\n",
      "Best params: {'classifier__C': 10, 'classifier__kernel': 'linear'}\n"
     ]
    },
    {
     "name": "stderr",
     "output_type": "stream",
     "text": [
      "/home/maxim/anaconda3/envs/SV_analytics/lib/python3.9/site-packages/mlflow/types/utils.py:452: UserWarning: Hint: Inferred schema contains integer column(s). Integer columns in Python cannot represent missing values. If your input data contains missing values at inference time, it will be encoded as floats and will cause a schema enforcement error. The best way to avoid this problem is to infer the model schema based on a realistic data sample (training dataset) that includes missing values. Alternatively, you can declare integer columns as doubles (float64) whenever these columns may have missing values. See `Handling Integers With Missing Values <https://www.mlflow.org/docs/latest/models.html#handling-integers-with-missing-values>`_ for more details.\n",
      "  warnings.warn(\n",
      "2025/10/14 00:11:25 WARNING mlflow.models.model: `artifact_path` is deprecated. Please use `name` instead.\n",
      "Successfully registered model 'machine_failure_svm'.\n",
      "2025/10/14 00:11:27 INFO mlflow.store.model_registry.abstract_store: Waiting up to 300 seconds for model version to finish creation. Model name: machine_failure_svm, version 1\n",
      "Successfully registered model 'machine_failure_svm'.\n",
      "2025/10/14 00:11:27 INFO mlflow.store.model_registry.abstract_store: Waiting up to 300 seconds for model version to finish creation. Model name: machine_failure_svm, version 1\n",
      "Created version '1' of model 'machine_failure_svm'.\n",
      "Created version '1' of model 'machine_failure_svm'.\n"
     ]
    },
    {
     "name": "stdout",
     "output_type": "stream",
     "text": [
      "Model artifact saved in: s3://mlflow/1/af7724d8bf0947c3951b1603427e878c/artifacts/model\n",
      "🏃 View run best_hyperparams_2025/10/14-00:10:47 at: http://localhost:5000/#/experiments/1/runs/af7724d8bf0947c3951b1603427e878c\n",
      "🧪 View experiment at: http://localhost:5000/#/experiments/1\n"
     ]
    }
   ],
   "source": [
    "run_name_parent = \\\n",
    "    \"best_hyperparams_\" + datetime.today().strftime('%Y/%m/%d-%H:%M:%S')\n",
    "\n",
    "with mlflow.start_run(\n",
    "    experiment_id=experiment_id, run_name=run_name_parent, nested=True):\n",
    "\n",
    "    param_grid = {\n",
    "        'classifier__C': [0.01, 0.11, 10],\n",
    "        'classifier__kernel': ['linear']\n",
    "    }\n",
    "    grid_search = GridSearchCV(model_svm, param_grid, cv=5, scoring='accuracy')\n",
    "    grid_search.fit(X_train, y_train)\n",
    "\n",
    "    mlflow.log_params(grid_search.best_params_)\n",
    "    mlflow.log_metric(\"best_train_accuracy\", grid_search.best_score_)\n",
    "\n",
    "    mlflow.set_tags(\n",
    "        tags={\n",
    "            \"project\": \"Predictive Maintenance\",\n",
    "            \"optimizer_engine\": \"GridSearchCV\",\n",
    "            \"model_family\": \"sklearn\",\n",
    "            \"feature_set_version\": 1,\n",
    "        }\n",
    "    )\n",
    "\n",
    "    # Hacemos fit con los mejores parametros sobre el dataset completo\n",
    "    model_svm = Pipeline(steps=[\n",
    "        (\"preprocessor\", preprocessor_svm),\n",
    "        (\"classifier\", SVC(C=grid_search.best_params_['classifier__C'],\n",
    "                            kernel=grid_search.best_params_['classifier__kernel']))\n",
    "    ])\n",
    "\n",
    "    test_score = model_svm.fit(X_train, y_train).score(X_test, y_test)\n",
    "    mlflow.log_metric(\"best_test_accuracy\", test_score)\n",
    "\n",
    "    print(\"Best Accuracy train :\", grid_search.best_score_)\n",
    "    print(\"Best accuracy test:\", test_score)\n",
    "    print(\"Best params:\", grid_search.best_params_)\n",
    "\n",
    "    # guardamos el modelo como artefacto\n",
    "    # Guardamos el artefacto del modelo\n",
    "    artifact_path = \"model\"\n",
    "\n",
    "    signature = infer_signature(X_train, model_svm.predict(X_train))\n",
    "\n",
    "    mlflow.sklearn.log_model(\n",
    "        sk_model=model_svm,\n",
    "        artifact_path=artifact_path,\n",
    "        signature=signature,\n",
    "        serialization_format='cloudpickle',\n",
    "        registered_model_name=\"machine_failure_svm\",\n",
    "        metadata={\"model_data_version\": 1}\n",
    "    )\n",
    "\n",
    "    # Obtenemos la ubicación del modelo guardado en MLFlow\n",
    "    model_uri = mlflow.get_artifact_uri(artifact_path)\n",
    "    print(f\"Model artifact saved in: {model_uri}\")"
   ]
  },
  {
   "cell_type": "code",
   "execution_count": null,
   "id": "a866e9db",
   "metadata": {},
   "outputs": [],
   "source": [
    "# Check the model_uri that was saved\n",
    "print(f\"Model URI: {model_uri}\")\n",
    "\n",
    "# Alternative: Load the model from the model registry instead\n",
    "try:\n",
    "    # Method 1: Try loading from the URI\n",
    "    loaded = mlflow.sklearn.load_model(model_uri)\n",
    "    print(\"✅ Successfully loaded model from URI\")\n",
    "except Exception as e:\n",
    "    print(f\"❌ Error loading from URI: {e}\")\n",
    "    \n",
    "    # Method 2: Load from model registry instead\n",
    "    try:\n",
    "        loaded = mlflow.sklearn.load_model(\"models:/machine_failure_svm/latest\")\n",
    "        print(\"✅ Successfully loaded model from registry\")\n",
    "    except Exception as e:\n",
    "        print(f\"❌ Error loading from registry: {e}\")\n",
    "        \n",
    "        # Method 3: Load the most recent run's model\n",
    "        client = mlflow.MlflowClient()\n",
    "        latest_run = client.search_runs(experiment_ids=[experiment_id], \n",
    "                                       order_by=[\"start_time DESC\"], \n",
    "                                       max_results=1)[0]\n",
    "        latest_model_uri = f\"runs:/{latest_run.info.run_id}/model\"\n",
    "        print(f\"Trying latest run URI: {latest_model_uri}\")\n",
    "        loaded = mlflow.sklearn.load_model(latest_model_uri)\n",
    "        print(\"✅ Successfully loaded model from latest run\")"
   ]
  },
  {
   "cell_type": "code",
   "execution_count": 15,
   "id": "2379b99f",
   "metadata": {},
   "outputs": [
    {
     "name": "stdout",
     "output_type": "stream",
     "text": [
      "Trying latest run URI: runs:/af7724d8bf0947c3951b1603427e878c/model\n"
     ]
    },
    {
     "name": "stderr",
     "output_type": "stream",
     "text": [
      "Downloading artifacts:   0%|          | 0/1 [00:00<?, ?it/s]\n",
      "Downloading artifacts: 100%|██████████| 5/5 [00:00<00:00, 1735.48it/s] \n",
      "Downloading artifacts: 100%|██████████| 5/5 [00:00<00:00, 1735.48it/s] "
     ]
    },
    {
     "name": "stdout",
     "output_type": "stream",
     "text": [
      "✅ Successfully loaded model from latest run\n"
     ]
    },
    {
     "name": "stderr",
     "output_type": "stream",
     "text": [
      "\n"
     ]
    }
   ],
   "source": [
    "client = mlflow.MlflowClient()\n",
    "latest_run = client.search_runs(experiment_ids=[experiment_id], \n",
    "                                       order_by=[\"start_time DESC\"], \n",
    "                                       max_results=1)[0]\n",
    "latest_model_uri = f\"runs:/{latest_run.info.run_id}/model\"\n",
    "print(f\"Trying latest run URI: {latest_model_uri}\")\n",
    "loaded = mlflow.sklearn.load_model(latest_model_uri)\n",
    "print(\"✅ Successfully loaded model from latest run\")"
   ]
  },
  {
   "cell_type": "markdown",
   "id": "aa0bb433",
   "metadata": {},
   "source": [
    "Registro el modelo para ponerlo en produccion"
   ]
  },
  {
   "cell_type": "code",
   "execution_count": null,
   "id": "96e0e83b",
   "metadata": {},
   "outputs": [],
   "source": [
    "client = mlflow.MlflowClient()\n",
    "name = \"machine_failure_svm_prod\"\n",
    "desc = \"Classifier for machine failures detection\"\n",
    "\n",
    "# Creamos el modelo productivo\n",
    "client.create_registered_model(\n",
    "    name=name, description=desc)\n",
    "\n",
    "# Guardamos como tag los hiper-parametros en la version del modelo\n",
    "tags = model_svm.get_params()\n",
    "tags[\"model\"] = type(model_svm).__name__\n",
    "tags[\"test-accuracy\"] = test_score\n",
    "\n",
    "# Guardamos la version del modelo\n",
    "result = client.create_model_version(\n",
    "    name=name,\n",
    "    source=model_uri,\n",
    "    run_id=model_uri.split(\"/\")[-3],\n",
    "    tags=tags\n",
    ")\n",
    "\n",
    "# Y creamos como la version con el alias de champion para poder levantarlo en nuestro\n",
    "# proceso de servicio del modelo on-line.\n",
    "client.set_registered_model_alias(name, \"champion\", result.version)"
   ]
  },
  {
   "cell_type": "markdown",
   "id": "9e5be3d4",
   "metadata": {},
   "source": [
    "Evaluacion"
   ]
  },
  {
   "cell_type": "code",
   "execution_count": null,
   "id": "2559c055",
   "metadata": {},
   "outputs": [],
   "source": [
    "# classification report sobre datos de test\n",
    "y_pred = model_svm.predict(X_test)\n",
    "print(classification_report(\n",
    "    y_test, y_pred, target_names=['Not Faulty', 'Faulty']))\n",
    "\n",
    "# matrix de confusion\n",
    "ConfusionMatrixDisplay.from_estimator(\n",
    "    model_svm, X_test, y_test,\n",
    "    display_labels=['Not Faulty', 'Faulty'],\n",
    "    cmap=plt.cm.Blues,\n",
    "    normalize='true'\n",
    ")\n",
    "plt.title('Matriz de Confusión Normalizada')\n",
    "plt.show()\n",
    "\n",
    "# Roc curve\n",
    "y_score = model_svm.decision_function(X_test)\n",
    "fpr, tpr, thresholds = roc_curve(y_test, y_score)\n",
    "roc_auc = auc(fpr, tpr)\n",
    "plt.figure()\n",
    "plt.plot(fpr, tpr, color='blue', label='ROC curve (area = {:.2f})'.format(roc_auc))\n",
    "plt.plot([0, 1], [0, 1], color='red', linestyle='--')\n",
    "plt.xlabel('False Positive Rate')\n",
    "plt.ylabel('True Positive Rate')\n",
    "plt.title('ROC')\n",
    "plt.legend(loc='lower right')\n",
    "plt.grid()\n",
    "plt.show()"
   ]
  }
 ],
 "metadata": {
  "kernelspec": {
   "display_name": "SV_analytics",
   "language": "python",
   "name": "python3"
  },
  "language_info": {
   "codemirror_mode": {
    "name": "ipython",
    "version": 3
   },
   "file_extension": ".py",
   "mimetype": "text/x-python",
   "name": "python",
   "nbconvert_exporter": "python",
   "pygments_lexer": "ipython3",
   "version": "3.9.17"
  }
 },
 "nbformat": 4,
 "nbformat_minor": 5
}
