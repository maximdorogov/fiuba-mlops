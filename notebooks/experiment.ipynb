{
 "cells": [
  {
   "cell_type": "code",
   "execution_count": 2,
   "id": "dac72971",
   "metadata": {},
   "outputs": [
    {
     "name": "stdout",
     "output_type": "stream",
     "text": [
      "env: AWS_ACCESS_KEY_ID=root\n",
      "env: AWS_SECRET_ACCESS_KEY=12345678\n",
      "env: MLFLOW_S3_ENDPOINT_URL=http://localhost:9010\n"
     ]
    }
   ],
   "source": [
    "from datetime import datetime\n",
    "import pandas as pd\n",
    "from matplotlib import pyplot as plt\n",
    "from sklearn.model_selection import (\n",
    "    GridSearchCV\n",
    ")\n",
    "from sklearn.pipeline import Pipeline\n",
    "from sklearn.compose import ColumnTransformer\n",
    "from sklearn.preprocessing import StandardScaler\n",
    "from sklearn.svm import SVC\n",
    "import mlflow\n",
    "from mlflow.models import infer_signature\n",
    "\n",
    "%env AWS_ACCESS_KEY_ID=root  \n",
    "%env AWS_SECRET_ACCESS_KEY=12345678\n",
    "%env MLFLOW_S3_ENDPOINT_URL=http://localhost:9010"
   ]
  },
  {
   "cell_type": "markdown",
   "id": "88142093",
   "metadata": {},
   "source": [
    "Configuramos el experimento con MLflow"
   ]
  },
  {
   "cell_type": "code",
   "execution_count": 3,
   "id": "7ecad072",
   "metadata": {},
   "outputs": [
    {
     "name": "stdout",
     "output_type": "stream",
     "text": [
      "Using experiment name machine_failure_prediction_svc ID: 1\n"
     ]
    }
   ],
   "source": [
    "MLFLOW_TRACKING_URI = \"http://localhost:5000\"\n",
    "MLFLOW_EXPERIMENT_NAME = \"machine_failure_prediction_svc\"\n",
    "\n",
    "mlflow.set_tracking_uri(MLFLOW_TRACKING_URI)\n",
    "experiment = mlflow.get_experiment_by_name(MLFLOW_EXPERIMENT_NAME)\n",
    "\n",
    "if experiment is None:\n",
    "    experiment_id = mlflow.create_experiment(MLFLOW_EXPERIMENT_NAME)\n",
    "else:\n",
    "    experiment_id = experiment.experiment_id\n",
    "print(f\"Using experiment name {MLFLOW_EXPERIMENT_NAME} ID: {experiment_id}\")"
   ]
  },
  {
   "cell_type": "markdown",
   "id": "15fa83d8",
   "metadata": {},
   "source": [
    "Cargamos el dataset balanceado y dividido en train y test."
   ]
  },
  {
   "cell_type": "code",
   "execution_count": 6,
   "id": "25f64cf0",
   "metadata": {},
   "outputs": [
    {
     "data": {
      "text/html": [
       "<div>\n",
       "<style scoped>\n",
       "    .dataframe tbody tr th:only-of-type {\n",
       "        vertical-align: middle;\n",
       "    }\n",
       "\n",
       "    .dataframe tbody tr th {\n",
       "        vertical-align: top;\n",
       "    }\n",
       "\n",
       "    .dataframe thead th {\n",
       "        text-align: right;\n",
       "    }\n",
       "</style>\n",
       "<table border=\"1\" class=\"dataframe\">\n",
       "  <thead>\n",
       "    <tr style=\"text-align: right;\">\n",
       "      <th></th>\n",
       "      <th>airtemperature_k</th>\n",
       "      <th>process_temperature_k</th>\n",
       "      <th>rotational_speed_rpm</th>\n",
       "      <th>torque_nm</th>\n",
       "      <th>tool_wear_min</th>\n",
       "      <th>type_l</th>\n",
       "      <th>type_m</th>\n",
       "      <th>target</th>\n",
       "    </tr>\n",
       "  </thead>\n",
       "  <tbody>\n",
       "    <tr>\n",
       "      <th>0</th>\n",
       "      <td>300.5</td>\n",
       "      <td>309.8</td>\n",
       "      <td>1345</td>\n",
       "      <td>62.7</td>\n",
       "      <td>153</td>\n",
       "      <td>True</td>\n",
       "      <td>False</td>\n",
       "      <td>0</td>\n",
       "    </tr>\n",
       "    <tr>\n",
       "      <th>1</th>\n",
       "      <td>303.7</td>\n",
       "      <td>312.4</td>\n",
       "      <td>1513</td>\n",
       "      <td>40.1</td>\n",
       "      <td>135</td>\n",
       "      <td>True</td>\n",
       "      <td>False</td>\n",
       "      <td>0</td>\n",
       "    </tr>\n",
       "    <tr>\n",
       "      <th>2</th>\n",
       "      <td>302.5</td>\n",
       "      <td>311.4</td>\n",
       "      <td>1559</td>\n",
       "      <td>37.6</td>\n",
       "      <td>209</td>\n",
       "      <td>True</td>\n",
       "      <td>False</td>\n",
       "      <td>0</td>\n",
       "    </tr>\n",
       "    <tr>\n",
       "      <th>3</th>\n",
       "      <td>295.6</td>\n",
       "      <td>306.3</td>\n",
       "      <td>1509</td>\n",
       "      <td>35.8</td>\n",
       "      <td>60</td>\n",
       "      <td>False</td>\n",
       "      <td>False</td>\n",
       "      <td>0</td>\n",
       "    </tr>\n",
       "    <tr>\n",
       "      <th>4</th>\n",
       "      <td>300.5</td>\n",
       "      <td>310.0</td>\n",
       "      <td>1358</td>\n",
       "      <td>60.4</td>\n",
       "      <td>102</td>\n",
       "      <td>False</td>\n",
       "      <td>False</td>\n",
       "      <td>0</td>\n",
       "    </tr>\n",
       "  </tbody>\n",
       "</table>\n",
       "</div>"
      ],
      "text/plain": [
       "   airtemperature_k  process_temperature_k  rotational_speed_rpm  torque_nm  \\\n",
       "0             300.5                  309.8                  1345       62.7   \n",
       "1             303.7                  312.4                  1513       40.1   \n",
       "2             302.5                  311.4                  1559       37.6   \n",
       "3             295.6                  306.3                  1509       35.8   \n",
       "4             300.5                  310.0                  1358       60.4   \n",
       "\n",
       "   tool_wear_min  type_l  type_m  target  \n",
       "0            153    True   False       0  \n",
       "1            135    True   False       0  \n",
       "2            209    True   False       0  \n",
       "3             60   False   False       0  \n",
       "4            102   False   False       0  "
      ]
     },
     "execution_count": 6,
     "metadata": {},
     "output_type": "execute_result"
    }
   ],
   "source": [
    "dataset_train = pd.read_csv('./data_train_balanced.csv')\n",
    "dataset_test = pd.read_csv('./data_test.csv')\n",
    "\n",
    "X_train = dataset_train.drop(columns=['target'])\n",
    "y_train = dataset_train['target']\n",
    "\n",
    "X_test = dataset_test.drop(columns=['target'])\n",
    "y_test = dataset_test['target']\n",
    "\n",
    "dataset_test.head()"
   ]
  },
  {
   "cell_type": "markdown",
   "id": "b785ab46",
   "metadata": {},
   "source": [
    "Creamos el pipeline con los hiperparámetros que queremos probar."
   ]
  },
  {
   "cell_type": "code",
   "execution_count": 7,
   "id": "44bc78b5",
   "metadata": {},
   "outputs": [],
   "source": [
    "X_train['type_l'] = X_train['type_l'].astype('category')\n",
    "X_train['type_m'] = X_train['type_m'].astype('category')\n",
    "\n",
    "X_test['type_l'] = X_test['type_l'].astype('category')\n",
    "X_test['type_m'] = X_test['type_m'].astype('category')\n",
    "\n",
    "numeric_features = X_train.select_dtypes(exclude=['category']).columns\n",
    "categorical_features = X_train.select_dtypes(include=['category']).columns\n",
    "\n",
    "\n",
    "preprocessor_svm = ColumnTransformer(\n",
    "    transformers=[(\"num\", StandardScaler(), numeric_features),\n",
    "                  (\"cat\", \"passthrough\", categorical_features)]\n",
    ")\n",
    "\n",
    "# Build pipeline: preprocessing + classifier\n",
    "model_svm = Pipeline(steps=[\n",
    "    (\"preprocessor\", preprocessor_svm),\n",
    "    (\"classifier\", SVC())\n",
    "])"
   ]
  },
  {
   "cell_type": "markdown",
   "id": "fb1c9554",
   "metadata": {},
   "source": [
    "Busqueda de hiperparametros con GridSearchCV"
   ]
  },
  {
   "cell_type": "code",
   "execution_count": 8,
   "id": "fa64e9f6",
   "metadata": {},
   "outputs": [
    {
     "name": "stdout",
     "output_type": "stream",
     "text": [
      "Best Accuracy train : 0.8388538188112801\n",
      "Best accuracy test: 0.849\n",
      "Best params: {'classifier__C': 10, 'classifier__kernel': 'linear'}\n"
     ]
    },
    {
     "name": "stderr",
     "output_type": "stream",
     "text": [
      "/home/maxim/anaconda3/envs/SV_analytics/lib/python3.9/site-packages/mlflow/types/utils.py:452: UserWarning: Hint: Inferred schema contains integer column(s). Integer columns in Python cannot represent missing values. If your input data contains missing values at inference time, it will be encoded as floats and will cause a schema enforcement error. The best way to avoid this problem is to infer the model schema based on a realistic data sample (training dataset) that includes missing values. Alternatively, you can declare integer columns as doubles (float64) whenever these columns may have missing values. See `Handling Integers With Missing Values <https://www.mlflow.org/docs/latest/models.html#handling-integers-with-missing-values>`_ for more details.\n",
      "  warnings.warn(\n",
      "2025/10/14 12:48:03 WARNING mlflow.models.model: `artifact_path` is deprecated. Please use `name` instead.\n",
      "Successfully registered model 'machine_failure_svm'.\n",
      "2025/10/14 12:48:05 INFO mlflow.store.model_registry.abstract_store: Waiting up to 300 seconds for model version to finish creation. Model name: machine_failure_svm, version 1\n",
      "Successfully registered model 'machine_failure_svm'.\n",
      "2025/10/14 12:48:05 INFO mlflow.store.model_registry.abstract_store: Waiting up to 300 seconds for model version to finish creation. Model name: machine_failure_svm, version 1\n",
      "Created version '1' of model 'machine_failure_svm'.\n",
      "Created version '1' of model 'machine_failure_svm'.\n"
     ]
    },
    {
     "name": "stdout",
     "output_type": "stream",
     "text": [
      "Model artifact saved in: s3://mlflow/1/b8e46fff288849f6a80f5f0a7fb2532f/artifacts/model\n",
      "🏃 View run best_hyperparams_2025/10/14-12:47:25 at: http://localhost:5000/#/experiments/1/runs/b8e46fff288849f6a80f5f0a7fb2532f\n",
      "🧪 View experiment at: http://localhost:5000/#/experiments/1\n"
     ]
    }
   ],
   "source": [
    "run_name_parent = \\\n",
    "    \"best_hyperparams_\" + datetime.today().strftime('%Y/%m/%d-%H:%M:%S')\n",
    "\n",
    "with mlflow.start_run(\n",
    "    experiment_id=experiment_id, run_name=run_name_parent, nested=True):\n",
    "\n",
    "    param_grid = {\n",
    "        'classifier__C': [0.01, 0.11, 10],\n",
    "        'classifier__kernel': ['linear']\n",
    "    }\n",
    "    grid_search = GridSearchCV(model_svm, param_grid, cv=5, scoring='accuracy')\n",
    "    grid_search.fit(X_train, y_train)\n",
    "\n",
    "    mlflow.log_params(grid_search.best_params_)\n",
    "    mlflow.log_metric(\"best_train_accuracy\", grid_search.best_score_)\n",
    "\n",
    "    mlflow.set_tags(\n",
    "        tags={\n",
    "            \"project\": \"Predictive Maintenance\",\n",
    "            \"optimizer_engine\": \"GridSearchCV\",\n",
    "            \"model_family\": \"sklearn\",\n",
    "            \"feature_set_version\": 1,\n",
    "        }\n",
    "    )\n",
    "\n",
    "    # Hacemos fit con los mejores parametros sobre el dataset completo\n",
    "    model_svm = Pipeline(steps=[\n",
    "        (\"preprocessor\", preprocessor_svm),\n",
    "        (\"classifier\", SVC(C=grid_search.best_params_['classifier__C'],\n",
    "                            kernel=grid_search.best_params_['classifier__kernel']))\n",
    "    ])\n",
    "\n",
    "    test_score = model_svm.fit(X_train, y_train).score(X_test, y_test)\n",
    "    mlflow.log_metric(\"best_test_accuracy\", test_score)\n",
    "\n",
    "    print(\"Best Accuracy train :\", grid_search.best_score_)\n",
    "    print(\"Best accuracy test:\", test_score)\n",
    "    print(\"Best params:\", grid_search.best_params_)\n",
    "\n",
    "    # guardamos el modelo como artefacto\n",
    "    # Guardamos el artefacto del modelo\n",
    "    artifact_path = \"model\"\n",
    "\n",
    "    signature = infer_signature(X_train, model_svm.predict(X_train))\n",
    "\n",
    "    mlflow.sklearn.log_model(\n",
    "        sk_model=model_svm,\n",
    "        artifact_path=artifact_path,\n",
    "        signature=signature,\n",
    "        serialization_format='cloudpickle',\n",
    "        registered_model_name=\"machine_failure_svm\",\n",
    "        metadata={\"model_data_version\": 1}\n",
    "    )\n",
    "\n",
    "    # Obtenemos la ubicación del modelo guardado en MLFlow\n",
    "    model_uri = mlflow.get_artifact_uri(artifact_path)\n",
    "    print(f\"Model artifact saved in: {model_uri}\")"
   ]
  },
  {
   "cell_type": "markdown",
   "id": "2fb74014",
   "metadata": {},
   "source": [
    "Registramos el modelo `champion` que usaremos en produccion"
   ]
  },
  {
   "cell_type": "code",
   "execution_count": 20,
   "id": "ffbf5c46",
   "metadata": {},
   "outputs": [],
   "source": [
    "def save_model_with_alias(\n",
    "    model, \n",
    "    model_name,\n",
    "    alias,\n",
    "    run_context=None,\n",
    "    artifact_path=\"model\",\n",
    "    description=None,\n",
    "    tags=None,\n",
    "    metadata=None\n",
    "):\n",
    "    \"\"\"\n",
    "    Save a model to MLflow registry and set an alias for easy retrieval\n",
    "    \n",
    "    Parameters:\n",
    "    - model: The trained model to save\n",
    "    - model_name: Name for the registered model\n",
    "    - alias: Alias to set (e.g., 'champion', 'challenger', 'production')\n",
    "    - run_context: MLflow run context (if saving within a run)\n",
    "    - artifact_path: Path where model artifacts are stored\n",
    "    - description: Description for the registered model\n",
    "    - tags: Dictionary of tags to add to the model version\n",
    "    - metadata: Dictionary of metadata for the model\n",
    "    \n",
    "    Returns:\n",
    "    - model_version: The created model version object\n",
    "    \"\"\"\n",
    "    \n",
    "    client = mlflow.MlflowClient()\n",
    "    \n",
    "    # Step 1: Ensure the registered model exists\n",
    "    try:\n",
    "        registered_model = client.get_registered_model(model_name)\n",
    "        print(f\"✅ Found existing registered model: {model_name}\")\n",
    "    except Exception:\n",
    "        print(f\"📝 Creating new registered model: {model_name}\")\n",
    "        client.create_registered_model(\n",
    "            name=model_name,\n",
    "            description=description or f\"Machine learning model: {model_name}\"\n",
    "        )\n",
    "    \n",
    "    # Step 2: Log the model (within or outside a run)\n",
    "    if run_context or mlflow.active_run():\n",
    "        # We're inside an MLflow run\n",
    "        print(f\"💾 Logging model within active run...\")\n",
    "        \n",
    "        # Create signature if we have training data\n",
    "        signature = None\n",
    "        if 'X_train' in globals():\n",
    "            signature = infer_signature(X_train, model.predict(X_train))\n",
    "        \n",
    "        model_info = mlflow.sklearn.log_model(\n",
    "            sk_model=model,\n",
    "            artifact_path=artifact_path,\n",
    "            signature=signature,\n",
    "            registered_model_name=model_name,\n",
    "            metadata=metadata or {}\n",
    "        )\n",
    "        \n",
    "        model_uri = model_info.model_uri\n",
    "        run_id = mlflow.active_run().info.run_id\n",
    "        \n",
    "    else:\n",
    "        # We need to create a run\n",
    "        print(f\"📦 Creating new run to save model...\")\n",
    "        with mlflow.start_run() as run:\n",
    "            # Create signature if we have training data\n",
    "            signature = None\n",
    "            if 'X_train' in globals():\n",
    "                signature = infer_signature(X_train, model.predict(X_train))\n",
    "            \n",
    "            model_info = mlflow.sklearn.log_model(\n",
    "                sk_model=model,\n",
    "                artifact_path=artifact_path,\n",
    "                signature=signature,\n",
    "                registered_model_name=model_name,\n",
    "                metadata=metadata or {}\n",
    "            )\n",
    "            \n",
    "            model_uri = model_info.model_uri\n",
    "            run_id = run.info.run_id\n",
    "    \n",
    "    # Step 3: Get the model version that was just created\n",
    "    versions = client.search_model_versions(f\"name='{model_name}'\")\n",
    "    latest_version = max(versions, key=lambda x: int(x.version))\n",
    "    \n",
    "    # Step 4: Add tags if provided\n",
    "    if tags:\n",
    "        print(f\"🏷️  Adding tags to model version {latest_version.version}...\")\n",
    "        for key, value in tags.items():\n",
    "            client.set_model_version_tag(\n",
    "                name=model_name,\n",
    "                version=latest_version.version,\n",
    "                key=key,\n",
    "                value=str(value)\n",
    "            )\n",
    "    \n",
    "    # Step 5: Set the alias\n",
    "    print(f\"🎯 Setting alias '{alias}' for model version {latest_version.version}...\")\n",
    "    client.set_registered_model_alias(\n",
    "        name=model_name,\n",
    "        alias=alias,\n",
    "        version=latest_version.version\n",
    "    )\n",
    "    \n",
    "    print(f\"✅ Model saved successfully!\")\n",
    "    print(f\"   - Model Name: {model_name}\")\n",
    "    print(f\"   - Version: {latest_version.version}\")\n",
    "    print(f\"   - Alias: {alias}\")\n",
    "    print(f\"   - URI: {model_uri}\")\n",
    "    print(f\"   - Load with: mlflow.sklearn.load_model('models:/{model_name}@{alias}')\")\n",
    "    \n",
    "    return latest_version\n",
    "\n",
    "\n",
    "def load_model_by_alias(model_name, alias=\"champion\"):\n",
    "    \"\"\"\n",
    "    Load model from MLflow registry using model name and alias\n",
    "    \"\"\"\n",
    "    try:\n",
    "        # Format: models:/model_name@alias\n",
    "        model_uri = f\"models:/{model_name}@{alias}\"\n",
    "        print(f\"Loading model from URI: {model_uri}\")\n",
    "        \n",
    "        model = mlflow.sklearn.load_model(model_uri)\n",
    "        print(f\"✅ Successfully loaded model {model_name} with alias '{alias}'\")\n",
    "        return model\n",
    "    \n",
    "    except Exception as e:\n",
    "        print(f\"❌ Error loading model {model_name} with alias '{alias}': {e}\")\n",
    "        return None"
   ]
  },
  {
   "cell_type": "code",
   "execution_count": 19,
   "id": "4dced395",
   "metadata": {},
   "outputs": [
    {
     "name": "stdout",
     "output_type": "stream",
     "text": [
      "✅ Found existing registered model: svm_prod\n",
      "📦 Creating new run to save model...\n"
     ]
    },
    {
     "name": "stderr",
     "output_type": "stream",
     "text": [
      "/home/maxim/anaconda3/envs/SV_analytics/lib/python3.9/site-packages/mlflow/types/utils.py:452: UserWarning: Hint: Inferred schema contains integer column(s). Integer columns in Python cannot represent missing values. If your input data contains missing values at inference time, it will be encoded as floats and will cause a schema enforcement error. The best way to avoid this problem is to infer the model schema based on a realistic data sample (training dataset) that includes missing values. Alternatively, you can declare integer columns as doubles (float64) whenever these columns may have missing values. See `Handling Integers With Missing Values <https://www.mlflow.org/docs/latest/models.html#handling-integers-with-missing-values>`_ for more details.\n",
      "  warnings.warn(\n",
      "2025/10/14 13:10:54 WARNING mlflow.models.model: `artifact_path` is deprecated. Please use `name` instead.\n",
      "Registered model 'svm_prod' already exists. Creating a new version of this model...\n",
      "2025/10/14 13:10:55 INFO mlflow.store.model_registry.abstract_store: Waiting up to 300 seconds for model version to finish creation. Model name: svm_prod, version 2\n",
      "Registered model 'svm_prod' already exists. Creating a new version of this model...\n",
      "2025/10/14 13:10:55 INFO mlflow.store.model_registry.abstract_store: Waiting up to 300 seconds for model version to finish creation. Model name: svm_prod, version 2\n",
      "Created version '2' of model 'svm_prod'.\n",
      "Created version '2' of model 'svm_prod'.\n"
     ]
    },
    {
     "name": "stdout",
     "output_type": "stream",
     "text": [
      "🏃 View run shivering-moth-340 at: http://localhost:5000/#/experiments/0/runs/08374961c297447484cc2c76d0a902e9\n",
      "🧪 View experiment at: http://localhost:5000/#/experiments/0\n",
      "🏷️  Adding tags to model version 2...\n",
      "🎯 Setting alias 'champion' for model version 2...\n",
      "✅ Model saved successfully!\n",
      "   - Model Name: svm_prod\n",
      "   - Version: 2\n",
      "   - Alias: champion\n",
      "   - URI: models:/m-7a6354995a4746de88fdd44e6afc640e\n",
      "   - Load with: mlflow.sklearn.load_model('models:/svm_prod@champion')\n",
      "<ModelVersion: aliases=[], creation_timestamp=1760458255630, current_stage='None', deployment_job_state=<ModelVersionDeploymentJobState: current_task_name='', job_id='', job_state='DEPLOYMENT_JOB_CONNECTION_STATE_UNSPECIFIED', run_id='', run_state='DEPLOYMENT_JOB_RUN_STATE_UNSPECIFIED'>, description='', last_updated_timestamp=1760458255630, metrics=None, model_id=None, name='svm_prod', params=None, run_id='08374961c297447484cc2c76d0a902e9', run_link='', source='models:/m-7a6354995a4746de88fdd44e6afc640e', status='READY', status_message=None, tags={}, user_id='', version='2'>\n",
      "🎯 Setting alias 'champion' for model version 2...\n",
      "✅ Model saved successfully!\n",
      "   - Model Name: svm_prod\n",
      "   - Version: 2\n",
      "   - Alias: champion\n",
      "   - URI: models:/m-7a6354995a4746de88fdd44e6afc640e\n",
      "   - Load with: mlflow.sklearn.load_model('models:/svm_prod@champion')\n",
      "<ModelVersion: aliases=[], creation_timestamp=1760458255630, current_stage='None', deployment_job_state=<ModelVersionDeploymentJobState: current_task_name='', job_id='', job_state='DEPLOYMENT_JOB_CONNECTION_STATE_UNSPECIFIED', run_id='', run_state='DEPLOYMENT_JOB_RUN_STATE_UNSPECIFIED'>, description='', last_updated_timestamp=1760458255630, metrics=None, model_id=None, name='svm_prod', params=None, run_id='08374961c297447484cc2c76d0a902e9', run_link='', source='models:/m-7a6354995a4746de88fdd44e6afc640e', status='READY', status_message=None, tags={}, user_id='', version='2'>\n"
     ]
    }
   ],
   "source": [
    "model_version = save_model_with_alias(\n",
    "    model=model_svm,\n",
    "    model_name=\"svm_prod\", \n",
    "    alias=\"champion\",\n",
    "    tags={\"accuracy\": 0.95, \"version\": \"v2.0\"},\n",
    "    metadata={\"features\": [\"f1\", \"f2\", \"f3\"]}\n",
    ")\n",
    "print(model_version)"
   ]
  },
  {
   "cell_type": "markdown",
   "id": "87cc821a",
   "metadata": {},
   "source": [
    "Probamos levantar el modelo champion desde mlflow"
   ]
  },
  {
   "cell_type": "code",
   "execution_count": 22,
   "id": "39006640",
   "metadata": {},
   "outputs": [
    {
     "name": "stdout",
     "output_type": "stream",
     "text": [
      "Loading model from URI: models:/svm_prod@champion\n"
     ]
    },
    {
     "name": "stderr",
     "output_type": "stream",
     "text": [
      "Downloading artifacts: 100%|██████████| 5/5 [00:00<00:00, 2910.29it/s] "
     ]
    },
    {
     "name": "stdout",
     "output_type": "stream",
     "text": [
      "✅ Successfully loaded model svm_prod with alias 'champion'\n",
      "Pipeline(steps=[('preprocessor',\n",
      "                 ColumnTransformer(transformers=[('num', StandardScaler(),\n",
      "                                                  Index(['airtemperature_k', 'process_temperature_k', 'rotational_speed_rpm',\n",
      "       'torque_nm', 'tool_wear_min'],\n",
      "      dtype='object')),\n",
      "                                                 ('cat', 'passthrough',\n",
      "                                                  Index(['type_l', 'type_m'], dtype='object'))])),\n",
      "                ('classifier', SVC(C=10, kernel='linear'))])\n"
     ]
    },
    {
     "name": "stderr",
     "output_type": "stream",
     "text": [
      "\n"
     ]
    }
   ],
   "source": [
    "loaded_model = load_model_by_alias(model_name='svm_prod', alias='champion')\n",
    "print(loaded_model)"
   ]
  }
 ],
 "metadata": {
  "kernelspec": {
   "display_name": "SV_analytics",
   "language": "python",
   "name": "python3"
  },
  "language_info": {
   "codemirror_mode": {
    "name": "ipython",
    "version": 3
   },
   "file_extension": ".py",
   "mimetype": "text/x-python",
   "name": "python",
   "nbconvert_exporter": "python",
   "pygments_lexer": "ipython3",
   "version": "3.9.17"
  }
 },
 "nbformat": 4,
 "nbformat_minor": 5
}
